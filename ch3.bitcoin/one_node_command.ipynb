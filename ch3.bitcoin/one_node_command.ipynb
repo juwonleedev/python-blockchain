{
 "cells": [
  {
   "cell_type": "code",
   "execution_count": 6,
   "metadata": {
    "tags": []
   },
   "outputs": [
    {
     "name": "stdout",
     "output_type": "stream",
     "text": [
      "Status Code: 404\n",
      "Response Content: <!doctype html>\n",
      "<html lang=en>\n",
      "<title>404 Not Found</title>\n",
      "<h1>Not Found</h1>\n",
      "<p>The requested URL was not found on the server. If you entered the URL manually please check your spelling and try again.</p>\n",
      "\n",
      "Invalid response or non-JSON content received\n"
     ]
    }
   ],
   "source": [
    "# 이제 구성된 노드에 거래내역을 저장하고, PoW를 통해 블록을 생성하고, 구성된 데이터를 조회하는 등 블록체인 노드를 운영해보자!\n",
    "\n",
    "import requests\n",
    "import json\n",
    "import pandas as pd \n",
    "import hashlib\n",
    "import random\n",
    "\n",
    "\n",
    "# 블록 조회\n",
    "headers = {'Content-Type': 'application/json; charset=utf-8'}\n",
    "res = requests.get(\"http://localhost:5001/chain\", headers=headers)\n",
    "\n",
    "# 응답 내용과 상태 코드 확인\n",
    "print(\"Status Code:\", res.status_code)\n",
    "print(\"Response Content:\", res.text)\n",
    "\n",
    "# 유효한 JSON 응답인 경우에만 JSON으로 변환\n",
    "if res.headers['Content-Type'] == 'application/json' and res.status_code == 200:\n",
    "    data = json.loads(res.text) #원래 책에는 저기 블록 조회에 json.loads(res.content)만 있었음\n",
    "    print(data)\n",
    "else:\n",
    "    print(\"Invalid response or non-JSON content received\")\n"
   ]
  },
  {
   "cell_type": "code",
   "execution_count": null,
   "metadata": {},
   "outputs": [],
   "source": []
  }
 ],
 "metadata": {
  "kernelspec": {
   "display_name": "Python 3 (ipykernel)",
   "language": "python",
   "name": "python3"
  },
  "language_info": {
   "codemirror_mode": {
    "name": "ipython",
    "version": 3
   },
   "file_extension": ".py",
   "mimetype": "text/x-python",
   "name": "python",
   "nbconvert_exporter": "python",
   "pygments_lexer": "ipython3",
   "version": "3.11.4"
  }
 },
 "nbformat": 4,
 "nbformat_minor": 4
}
