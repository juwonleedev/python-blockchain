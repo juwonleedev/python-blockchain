{
 "cells": [
  {
   "cell_type": "code",
   "execution_count": null,
   "metadata": {},
   "outputs": [],
   "source": [
    "# 이제 구성된 노드에 거래내역을 저장하고, PoW를 통해 블록을 생성하고, 구성된 데이터를 조회하는 등 블록체인 노드를 운영해보자!\n",
    "\n",
    "import requests\n",
    "import json\n",
    "import pandas as pd \n",
    "import hashlib\n",
    "import random\n",
    "\n",
    "# 블록 조회 \n",
    "headers = {'Conent-Type' : 'application/json; charset=utf-8'}\n",
    "res = requests.get(\"https://localhost:5000/chain\", headers=headers)\n",
    "json.loads(res.content)\n",
    "\n",
    "\n"
   ]
  }
 ],
 "metadata": {
  "language_info": {
   "name": "python"
  }
 },
 "nbformat": 4,
 "nbformat_minor": 2
}
