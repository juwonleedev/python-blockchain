{
 "cells": [
  {
   "cell_type": "markdown",
   "metadata": {},
   "source": [
    "# 계정별 잔액 조회와 송금 기능이 있는 지갑 사이트\n",
    "로그인과 지갑, 2개의 화면 및 기능으로 구성됨 - 백엔드 로직을 자세히 알아보자\n",
    "(1) 로그인 페이지\n",
    "POST 방식이 아닌 단순 접속 방식으로 접근할 경우 프론트엔드 단계에서 준비될 login.html을 렌더링해 페이지가 나타남\n",
    "그리고 로그인 버튼이 클릭되면 POST 방식을 통해 백엔드에 접속 \n",
    "if request.method = 'POST': 입력된 아이디가 input_value에 저장됨\n",
    "(2) 지갑\n",
    "블록 정보 조회 URL에 request의 GET 방식으로 접속해서 정보를 받아옴\n",
    "이후 pandas를 통해 잔액이 조회되고 로그인 계정이 데이터 프레임의 user값과 동일할 경우 해당 잔고 값과 함께 로그인이 성공된 wallet.html 페이지로 렌더링된다"
   ]
  },
  {
   "cell_type": "code",
   "execution_count": null,
   "metadata": {},
   "outputs": [],
   "source": [
    "from flask import Flask\n",
    "from datetime import datetime\n",
    "from flask import render_template\n",
    "from flask import request\n",
    "from flask import url_for\n",
    "from flask import redirect\n",
    "\n",
    "import requests\n",
    "import json\n",
    "import os\n",
    "import pandas as pd"
   ]
  },
  {
   "cell_type": "markdown",
   "metadata": {},
   "source": [
    "## 로그인\n",
    "첫 접속시에는 login.html 파일을 랜더링\n",
    "POST 방식으로 지갑 주소를 입력한 경우,\n",
    "> 알맞은 지갑주소일 경우 wallet.html 파일 랜더링\n",
    "> 잘못된 지갑주소일 경우 에러 메시지 띄움"
   ]
  },
  {
   "cell_type": "code",
   "execution_count": null,
   "metadata": {},
   "outputs": [],
   "source": [
    "# Flask app 선언!\n",
    "app = Flask(__name__, template_folder=os.getcwd())\n",
    "\n",
    "@app.route('/', methods=['GET', 'POST'])\n",
    "def login():\n",
    "    if request.method=='POST':\n",
    "        print(\"login 버튼을 누름\")\n",
    "        input_value = request.form.to_dict(flat=False) ['wallet_id'][0]\n",
    "        print(\"login 지갑주소 : \" , input_value)\n",
    "        ### 기존 user 정보 확인\n",
    "        headers = {'Content-Type' : 'application/json; charset=utf-8'}\n",
    "        res = requests.get(\"http://localhost:5000/chain\", headers=headers)\n",
    "        status_json = json.loads(res.text)\n",
    "        status_json['chain']    \n",
    "        tx_amount_l = []\n",
    "        tx_sender_l = []\n",
    "        tx_reciv_l  = []\n",
    "        tx_time_l   = []\n",
    "        # 거래내역 정리 (df_tx)\n",
    "        for chain_index in range(len(status_json['chain'])):\n",
    "            chain_tx = status_json['chain'][chain_index]['transactions']\n",
    "            for each_tx in range(len(chain_tx)):\n",
    "                tx_amount_l.append(chain_tx[each_tx]['amount'])\n",
    "                tx_sender_l.append(chain_tx[each_tx]['sender'])\n",
    "                tx_reciv_l.append(chain_tx[each_tx]['recipient'])\n",
    "                tx_time_l.append(chain_tx[each_tx]['timestamp'])\n",
    "        df_tx = pd.DataFrame()\n",
    "        df_tx['timestamp'] = tx_time_l  \n",
    "        df_tx['sender'] = tx_sender_l \n",
    "        df_tx['recipient'] = tx_reciv_l\n",
    "        df_tx['amount'] = tx_amount_l   \n",
    "        df_tx\n",
    "\n",
    "        # pyBTC 잔고현황 정리 (df_status)\n",
    "        df_sended = pd.DataFrame(df_tx.groupby('sender')['amount'].sum()).reset_index()\n",
    "        df_sended.columns = ['user','sended_amount']\n",
    "        df_received= pd.DataFrame(df_tx.groupby('recipient')['amount'].sum()).reset_index()\n",
    "        df_received.columns = ['user','received_amount']\n",
    "        df_status = pd.merge(df_received,df_sended, on ='user', how=  'outer').fillna(0)\n",
    "        df_status['balance'] = df_status['received_amount']  - df_status['sended_amount']  \n",
    "        df_status       \n",
    "    \n",
    "        # 결과값 랜더링\n",
    "        if (df_status['user']==input_value ).sum() == 1:\n",
    "            print(\"로그인성공\")\n",
    "            return render_template(\"wallet.html\",  wallet_id = input_value, \n",
    "                                                    wallet_value = df_status[df_status['user']== input_value]['balance'].iloc[0])\n",
    "        else:\n",
    "            return \"잘못된 지갑주소입니다.\"\n",
    "        \n",
    "    return render_template('login.html')"
   ]
  },
  {
   "cell_type": "markdown",
   "metadata": {},
   "source": [
    "## 지갑 기능\n",
    "POST 방식으로 보내는 지갑 주소와 보내는 pyBTC 양이 입력된 경우,\n",
    "해당 지갑주소일 pyBTC 전송 - 송금 URL request의 POST 방식"
   ]
  },
  {
   "cell_type": "code",
   "execution_count": null,
   "metadata": {},
   "outputs": [],
   "source": [
    "@app.route('/wallet', methods=['GET', 'POST'])\n",
    "def wallet():\n",
    "    if request.method=='POST':\n",
    "        send_value = int(request.form.to_dict(flat=False)['send_value'][0] )\n",
    "        send_target = request.form.to_dict(flat=False)['send_target'][0]\n",
    "        send_from = request.form.to_dict(flat=False)['send_from'][0]\n",
    "        print(\"Login Wallet ID : \" ,send_from)\n",
    "        \n",
    "        if send_value > 0:\n",
    "            print(\"Send Amout :\", send_value)\n",
    "            ## transaction 입력하기\n",
    "            headers = {'Content-Type' : 'application/json; charset=utf-8'}\n",
    "            data = {\n",
    "                \"sender\": send_from,\n",
    "                \"recipient\": send_target,\n",
    "                \"amount\": send_value,\n",
    "            }\n",
    "            requests.post(\"http://localhost:5000/transactions/new\", headers=headers, data=json.dumps(data))\n",
    "\n",
    "            return \"전송 완료!\"\n",
    "\n",
    "        else:\n",
    "            return \"0 pyBTC 이상 보내주세요!\"\n",
    "        \n",
    "    return render_template('wallet.html')\n",
    "\n",
    "## 지갑 사이트 실행\n",
    "app.run(port=8081)"
   ]
  },
  {
   "cell_type": "code",
   "execution_count": null,
   "metadata": {},
   "outputs": [],
   "source": []
  }
 ],
 "metadata": {
  "language_info": {
   "name": "python"
  }
 },
 "nbformat": 4,
 "nbformat_minor": 2
}
