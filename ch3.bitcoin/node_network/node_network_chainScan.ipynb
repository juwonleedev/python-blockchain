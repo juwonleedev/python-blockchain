{
 "cells": [
  {
   "cell_type": "markdown",
   "metadata": {},
   "source": [
    "블록 스캔 백엔드 코드 "
   ]
  },
  {
   "cell_type": "code",
   "execution_count": null,
   "metadata": {},
   "outputs": [],
   "source": [
    "from flask import Flask\n",
    "from datetime import datetime\n",
    "from flask import render_template\n",
    "import requests\n",
    "import os\n",
    "import json\n",
    "import pandas as pd\n",
    "import random\n",
    "\n",
    "app = Flask(__name__, template_folder=os.getcwd())\n",
    "\n",
    "node_port_list = ['5000','5001','5002']\n",
    "\n",
    "@app.route('/')\n",
    "def index():\n",
    "    headers = {'Content-Type' : 'application/json; charset=utf-8'}\n",
    "        # 블록 체인 내 블록 정보를 제공하는 url(http://localhost:5000/chain)에 request 방식으로 데이터를 요청\n",
    "    node_id = random.choice(node_port_list)\n",
    "    res = requests.get(\"http://localhost:\" + node_id + \"/chain\", headers=headers)\n",
    "    print(\"Selected Node : \", node_id)\n",
    "    # 요청 결과 데이터(res.text)를 json 으로 로드\n",
    "    status_json = json.loads(res.text)\n",
    "    # 결과 데이터를 pandas의 dataframe(df_scan)으로  정리\n",
    "    df_scan = pd.DataFrame(status_json['chain'] )\n",
    "     # Front 구성내용이 담길 html(one_node_scan.html)파일에 Dataframe 정보(df_scan)과 블록의 길이(block_len)을 제공\n",
    "    return render_template('/node_network_scan.html', df_scan = df_scan, block_len = len(df_scan))\n",
    "\n",
    "app.run(port=8080)"
   ]
  }
 ],
 "metadata": {
  "language_info": {
   "name": "python"
  }
 },
 "nbformat": 4,
 "nbformat_minor": 2
}
