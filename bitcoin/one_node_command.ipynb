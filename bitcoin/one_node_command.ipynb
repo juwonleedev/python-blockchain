{
 "cells": [
  {
   "cell_type": "markdown",
   "metadata": {},
   "source": [
    "노드에 여러 작업을 지시"
   ]
  },
  {
   "cell_type": "code",
   "execution_count": 4,
   "metadata": {
    "tags": []
   },
   "outputs": [
    {
     "name": "stdout",
     "output_type": "stream",
     "text": [
      "Status Code: 404\n",
      "Response Content: <!doctype html>\n",
      "<html lang=en>\n",
      "<title>404 Not Found</title>\n",
      "<h1>Not Found</h1>\n",
      "<p>The requested URL was not found on the server. If you entered the URL manually please check your spelling and try again.</p>\n",
      "\n",
      "Invalid response or non-JSON content received\n"
     ]
    }
   ],
   "source": [
    "# 이제 구성된 노드에 거래내역을 저장하고, PoW를 통해 블록을 생성하고, 구성된 데이터를 조회하는 등 블록체인 노드를 운영해보자!\n",
    "\n",
    "import requests\n",
    "import json\n",
    "import pandas as pd \n",
    "import hashlib\n",
    "import random\n",
    "\n",
    "\n",
    "# 블록 조회\n",
    "headers = {'Content-Type': 'application/json; charset=utf-8'}\n",
    "res = requests.get(\"http://localhost:5001/chain\", headers=headers)\n",
    "\n",
    "# 응답 내용과 상태 코드 확인\n",
    "print(\"Status Code:\", res.status_code)\n",
    "print(\"Response Content:\", res.text)\n",
    "\n",
    "# 유효한 JSON 응답인 경우에만 JSON으로 변환\n",
    "if res.headers['Content-Type'] == 'application/json' and res.status_code == 200:\n",
    "    data = json.loads(res.text) #원래 책에는 저기 블록 조회에 json.loads(res.content)만 있었음\n",
    "    print(data)\n",
    "else:\n",
    "    print(\"Invalid response or non-JSON content received\")\n",
    "\n"
   ]
  },
  {
   "cell_type": "code",
   "execution_count": null,
   "metadata": {},
   "outputs": [],
   "source": [
    "# 트랜잭션 입력하기\n",
    "headers = {'Content-Type' : 'application/json; charset=utf-8'}\n",
    "data = {\n",
    "    \"sender\": \"test_from\",\n",
    "    \"recipient\": \"test_to\",\n",
    "    \"amount\" : 3,\n",
    "}\n",
    "requests.post(\"http://localhost:5001/transactions/new\", headers=headers, data=json.dumps(data)).content"
   ]
  },
  {
   "cell_type": "code",
   "execution_count": null,
   "metadata": {},
   "outputs": [],
   "source": [
    "# 채굴 명령 \n",
    "headers = {'Content-Type: application/json; charset=utf-8'}\n",
    "res = requests.get(\"http://localhost:5000/mine\")\n",
    "print(res) # response status가 출력됨\n",
    "print(res.text) # 블록체인 내용이 출력됨"
   ]
  },
  {
   "cell_type": "code",
   "execution_count": null,
   "metadata": {},
   "outputs": [],
   "source": [
    "# Pandas를 활용한 거래 내역 확인\n",
    "status_json = json.loads(res.text)\n",
    "status_json['chain']\n",
    "tx_amount_l = []\n",
    "tx_sender_l = []\n",
    "tx_reciv_l = []\n",
    "tx_time_l = []\n",
    "\n",
    "for chain_index in range(len(status_json['chain'])):\n",
    "    chain_tx = status_json['chain'][chain_index]['transactions']\n",
    "\n",
    "for each_tx in range(len(chain_tx)):\n",
    "    tx_amount_l.append(chain_tx[each_tx]['amount'])\n",
    "    tx_sender_l.append(chain_tx[each_tx]['sender'])\n",
    "    tx_reciv_l.append(chain_tx[each_tx]['recipient'])\n",
    "    tx_time_l.append(chain_tx[each_tx]['timestamp'])\n",
    "\n",
    "df_tx = pd.DataFrame()\n",
    "df_tx['timestamp'] = tx_time_l\n",
    "df_tx['sender'] = tx_sender_l\n",
    "df_tx['recipient'] = tx_reciv_l\n",
    "df_tx['amount'] = tx_amount_l\n",
    "df_tx"
   ]
  },
  {
   "cell_type": "code",
   "execution_count": null,
   "metadata": {},
   "outputs": [],
   "source": [
    "# 지갑별 잔액 계산 (계정별 잔고 조회 - user, received_amount, sended_amount, balance)\n",
    "df_sended = pd.DataFrame(df_tx.groupby('sender')['amount'].sum()).reset_index()\n",
    "df_sended.columns = ['user','sended_amount']\n",
    "df_received= pd.DataFrame(df_tx.groupby('recipient')['amount'].sum()).reset_index()\n",
    "df_received.columns = ['user','received_amount']\n",
    "df_received\n",
    "\n",
    "df_status = pd.merge(df_received,df_sended, on ='user', how=  'outer').fillna(0)\n",
    "df_status['balance'] = df_status['received_amount']  - df_status['sended_amount']  \n",
    "df_status"
   ]
  }
 ],
 "metadata": {
  "kernelspec": {
   "display_name": "Python 3 (ipykernel)",
   "language": "python",
   "name": "python3"
  },
  "language_info": {
   "codemirror_mode": {
    "name": "ipython",
    "version": 3
   },
   "file_extension": ".py",
   "mimetype": "text/x-python",
   "name": "python",
   "nbconvert_exporter": "python",
   "pygments_lexer": "ipython3",
   "version": "3.11.4"
  }
 },
 "nbformat": 4,
 "nbformat_minor": 4
}
