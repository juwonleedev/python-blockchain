{
 "cells": [
  {
   "cell_type": "code",
   "execution_count": null,
   "metadata": {},
   "outputs": [],
   "source": [
    "from flask import Flask\n",
    "from flask import render_template\n",
    "from flask import request\n",
    "\n",
    "import requests\n",
    "import json\n",
    "import os"
   ]
  },
  {
   "cell_type": "code",
   "execution_count": null,
   "metadata": {},
   "outputs": [],
   "source": [
    "# Flask 앱 선언\n",
    "app = Flask(__name__, template_folder=os.getcwd())"
   ]
  },
  {
   "cell_type": "markdown",
   "metadata": {},
   "source": [
    "NFT Wallet 사이트\n",
    "첫 접속시에는 NFT_Wallet_login.html 파일을 랜더링\n",
    "POST 방식으로 NFT의 스마트컨트랙트 주소를 입력한 경우,\n",
    "> 알맞은 지갑주소일 경우 NFT_Wallet.html 파일 랜더링\n",
    "> 잘못된 지갑주소일 경우 에러 메시지 띄움"
   ]
  },
  {
   "cell_type": "code",
   "execution_count": null,
   "metadata": {},
   "outputs": [],
   "source": [
    "@app.route('/', methods=['GET', 'POST'])\n",
    "def login():\n",
    "    if request.method=='POST':\n",
    "        \n",
    "        contract_address = request.form.to_dict(flat=False)['smart_contract_addr'][0] \n",
    "        print(contract_address)\n",
    "        # 블록 정보 호출\n",
    "        headers = {'Content-Type' : 'application/json; charset=utf-8'}\n",
    "        res = requests.get(\"http://localhost:5000/chain\", headers=headers)\n",
    "        res_json = json.loads(res.content)\n",
    "        nft_TF = False\n",
    "        ## 스마트 컨트랙트를 호출 및 실행\n",
    "        for _block in res_json['chain']:\n",
    "            for _tx in _block['transactions']:\n",
    "                if _tx['smart_contract']['contract_address'] == contract_address:\n",
    "                    exec( _tx['smart_contract']['contract_code']) \n",
    "                    nft_TF = True\n",
    "                    break\n",
    "        if nft_TF:\n",
    "#             print(myNFT)\n",
    "            return render_template(\"NFT_Wallet.html\",  \n",
    "                                   nft_name = _tx['smart_contract']['contract_code'].split(\"'\")[3], \n",
    "                                   nft_img_url = _tx['smart_contract']['contract_code'].split(\"'\")[7],\n",
    "                                   nft_addresss = contract_address\n",
    "                                   )\n",
    "        else:\n",
    "            return \"잘못된 지갑주소입니다.\"\n",
    "\n",
    "        \n",
    "    return render_template('NFT_Wallet_login.html')\n",
    "app.run(port=8082)"
   ]
  }
 ],
 "metadata": {
  "language_info": {
   "name": "python"
  }
 },
 "nbformat": 4,
 "nbformat_minor": 2
}
