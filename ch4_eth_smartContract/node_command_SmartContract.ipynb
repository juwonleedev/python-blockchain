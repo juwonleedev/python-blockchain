{
 "cells": [
  {
   "cell_type": "code",
   "execution_count": null,
   "metadata": {},
   "outputs": [],
   "source": [
    "import requests\n",
    "import json\n",
    "import pandas as pd\n",
    "import hashlib # hash 함수용 sha256 사용할 라이브러리|\n",
    "import random"
   ]
  },
  {
   "cell_type": "markdown",
   "metadata": {},
   "source": [
    "노드 블록 정보 확인"
   ]
  },
  {
   "cell_type": "code",
   "execution_count": null,
   "metadata": {},
   "outputs": [],
   "source": [
    "headers = {'Content-Type' : 'application/json; charset=utf-8'}\n",
    "res = requests.get(\"http://localhost:5000/chain\", headers=headers)\n",
    "json.loads(res.content)"
   ]
  },
  {
   "cell_type": "markdown",
   "metadata": {},
   "source": [
    "transaction 입력 및 채굴(기존과 동일)"
   ]
  },
  {
   "cell_type": "code",
   "execution_count": null,
   "metadata": {},
   "outputs": [],
   "source": [
    "headers = {'Content-Type' : 'application/json; charset=utf-8'}\n",
    "data = {\n",
    "        \"sender\": \"test_from\",\n",
    "        \"recipient\": \"test_to\",\n",
    "        \"amount\": 100,\n",
    "        \"smart_contract\": {}\n",
    "}\n",
    "requests.post(\"http://localhost:5000/transactions/new\", headers=headers, data=json.dumps(data)).content\n",
    "\n",
    "headers = {'Content-Type' : 'application/json; charset=utf-8'}\n",
    "res = requests.get(\"http://localhost:5000/mine\")\n",
    "print(res)"
   ]
  },
  {
   "cell_type": "markdown",
   "metadata": {},
   "source": [
    "노드의 블록정보 확인 - 1"
   ]
  },
  {
   "cell_type": "code",
   "execution_count": null,
   "metadata": {},
   "outputs": [],
   "source": [
    "headers = {'Content-Type' : 'application/json; charset=utf-8'}\n",
    "res = requests.get(\"http://localhost:5000/chain\", headers=headers)\n",
    "json.loads(res.content)"
   ]
  },
  {
   "cell_type": "markdown",
   "metadata": {},
   "source": [
    "Smart Contract transaction 입력하기"
   ]
  },
  {
   "cell_type": "code",
   "execution_count": null,
   "metadata": {},
   "outputs": [],
   "source": [
    "headers = {'Content-Type' : 'application/json; charset=utf-8'}\n",
    "data = {\n",
    "        \"sender\": \"test_from\",\n",
    "        \"recipient\": \"smart_contract\",\n",
    "        \"amount\": 0,\n",
    "        \"smart_contract\": {\"contract_code\":\"print('Ｈello Ｓmart－Ｃontract')\"}\n",
    "}\n",
    "result = requests.post(\"http://localhost:5000/transactions/new\", headers=headers, data=json.dumps(data)).content\n",
    "json.loads(result)\n",
    "\n",
    "contract_address = json.loads(result)['contract_address']"
   ]
  },
  {
   "cell_type": "markdown",
   "metadata": {},
   "source": [
    "Smart Contract 호출 "
   ]
  },
  {
   "cell_type": "code",
   "execution_count": null,
   "metadata": {},
   "outputs": [],
   "source": [
    "headers = {'Content-Type' : 'application/json; charset=utf-8'}\n",
    "res = requests.get(\"http://localhost:5000/chain\", headers=headers)\n",
    "res_json = json.loads(res.content)\n",
    "\n",
    "for _block in res_json['chain']:\n",
    "    for _tx in _block['transactions']:\n",
    "        if _tx['smart_contract']['contract_address'] == contract_address:\n",
    "            exec( _tx['smart_contract']['contract_code'])            "
   ]
  },
  {
   "cell_type": "markdown",
   "metadata": {},
   "source": [
    "Smart Contract 입력하기 -2 / NFT 제작 \n",
    "여기서는 가장 단순한 기능만 적용"
   ]
  },
  {
   "cell_type": "code",
   "execution_count": null,
   "metadata": {},
   "outputs": [],
   "source": [
    "headers = {'Content-Type' : 'application/json; charset=utf-8'}\n",
    "data = {\n",
    "        \"sender\": \"test_from\",\n",
    "        \"recipient\": \"smart_contract\",\n",
    "        \"amount\": 0,\n",
    "        \"smart_contract\": {\"contract_code\":\"\"\"\n",
    "myNFT = {'NFT_NAME':'SMARTCONTRACT_NFT',\n",
    "         'NFT_URL': 'https://www.google.com/images/branding/googlelogo/1x/googlelogo_color_272x92dp.png'}\n",
    "                                            \"\"\"}\n",
    "}\n",
    "result = requests.post(\"http://localhost:5000/transactions/new\", headers=headers, data=json.dumps(data)).content\n",
    "contract_address = json.loads(result)['contract_address']\n",
    "\n",
    "# 채굴을 통하여 거래내역을 블록에 저장한다\n",
    "headers = {'Content-Type' : 'application/json; charset=utf-8'}\n",
    "res = requests.get(\"http://localhost:5000/mine\")\n",
    "print(res)"
   ]
  },
  {
   "cell_type": "markdown",
   "metadata": {},
   "source": [
    "Smart Contract 입력하기 -3 / Token 만들기\n",
    "Layer 2 토큰 "
   ]
  },
  {
   "cell_type": "code",
   "execution_count": null,
   "metadata": {},
   "outputs": [],
   "source": [
    "headers = {'Content-Type' : 'application/json; charset=utf-8'}\n",
    "data = {\n",
    "        \"sender\": \"test_from\",\n",
    "        \"recipient\": \"smart_contract\",\n",
    "        \"amount\": 0,\n",
    "        \"smart_contract\": {\n",
    "                           \"contract_code\" :\"token_name = 'pyTOKEN' \\ntoken_total_volume = 100000\"\n",
    "                                            }\n",
    "            }\n",
    "result = requests.post(\"http://localhost:5000/transactions/new\", headers=headers, data=json.dumps(data)).content\n",
    "contract_address = json.loads(result)['contract_address']\n",
    "\n",
    "headers = {'Content-Type' : 'application/json; charset=utf-8'}\n",
    "res = requests.get(\"http://localhost:5000/mine\")\n",
    "print(res)\n",
    "\n",
    "# 블록 정보 호출\n",
    "headers = {'Content-Type' : 'application/json; charset=utf-8'}\n",
    "res = requests.get(\"http://localhost:5000/chain\", headers=headers)\n",
    "res_json = json.loads(res.content)\n",
    "\n",
    "## 스마트 컨트랙트를 호출 및 실행\n",
    "for _block in res_json['chain']:\n",
    "    for _tx in _block['transactions']:\n",
    "        if _tx['smart_contract']['contract_address'] == contract_address:\n",
    "            exec( _tx['smart_contract']['contract_code'])       \n",
    "            break\n",
    "print(token_name , \"/ \", token_total_volume  )"
   ]
  },
  {
   "cell_type": "markdown",
   "metadata": {},
   "source": [
    "Smart Contract 입력하기 -4 / 거래 가능한 Token 만들기\n",
    "- 토큰 소유주 정보 추가 \n",
    "잔액 조회, 토큰 보내기 등에 대한 함수 추가"
   ]
  },
  {
   "cell_type": "code",
   "execution_count": null,
   "metadata": {},
   "outputs": [],
   "source": [
    "headers = {'Content-Type' : 'application/json; charset=utf-8'}\n",
    "data = {\n",
    "        \"sender\": \"test_from\",\n",
    "        \"recipient\": \"test_to\",\n",
    "        \"amount\": 3,\n",
    "        \"smart_contract\": {\n",
    "                           \"contract_code\" :\"token_name = 'pyTOKEN' \\ntoken_total_volume = 100000\\ntoken_owner = {'token_maker' : 10000}\",\n",
    "                           \"contract_function_getBalance\" :\"\"\"\n",
    "def get_balance(user_id):\n",
    "    print('{} Balance is : '.format(user_id), token_owner[user_id])\n",
    "    return token_owner[user_id]\n",
    "\"\"\",\n",
    "                           \"contract_function_sendToken\" :\"\"\"\n",
    "def send_token(sender,recipent,amount):\n",
    "    if sender in token_owner.keys():\n",
    "        if get_balance(sender) > amount:\n",
    "            token_owner[sender]  = token_owner[sender] - amount\n",
    "            if recipent in token_owner.keys():\n",
    "                token_owner[recipent]  = token_owner[recipent] + amount\n",
    "            else :\n",
    "                token_owner[recipent]  =  amount\n",
    "            print(\"Transaction Completed\")\n",
    "            get_balance(sender) \n",
    "            get_balance(recipent) \n",
    "\n",
    "        else:\n",
    "            return \"Insufficient Balance\"\n",
    "    else:\n",
    "        return \"Unavailable Sender id\"\n",
    "\"\"\"\n",
    "                           \n",
    "\n",
    "                                            }\n",
    "            }\n",
    "result = requests.post(\"http://localhost:5000/transactions/new\", headers=headers, data=json.dumps(data)).content\n",
    "contract_address = json.loads(result)['contract_address']\n",
    "\n",
    "\n",
    "headers = {'Content-Type' : 'application/json; charset=utf-8'}\n",
    "res = requests.get(\"http://localhost:5000/mine\")\n",
    "print(res)"
   ]
  }
 ],
 "metadata": {
  "language_info": {
   "name": "python"
  }
 },
 "nbformat": 4,
 "nbformat_minor": 2
}
