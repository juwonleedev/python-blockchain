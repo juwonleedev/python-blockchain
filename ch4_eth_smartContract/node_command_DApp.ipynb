{
 "cells": [
  {
   "cell_type": "code",
   "execution_count": null,
   "metadata": {},
   "outputs": [],
   "source": [
    "import requests\n",
    "import json\n",
    "import pandas as pd\n",
    "import hashlib # hash 함수용 sha256 사용할 라이브러리|\n",
    "import random"
   ]
  },
  {
   "cell_type": "markdown",
   "metadata": {},
   "source": [
    "DApp 제작 -1 계산기"
   ]
  },
  {
   "cell_type": "code",
   "execution_count": null,
   "metadata": {},
   "outputs": [],
   "source": [
    "headers = {'Content-Type' : 'application/json; charset=utf-8'}\n",
    "data = {\n",
    "        \"sender\": \"test_from\",\n",
    "        \"recipient\": \"smart_contract\",\n",
    "        \"amount\": 0,\n",
    "        \"smart_contract\": {\n",
    "                           \"contract_code\" : \"calculate_result = {}{}{}\"}\n",
    "}\n",
    "result = requests.post(\"http://localhost:5000/transactions/new\", headers=headers, data=json.dumps(data)).content\n",
    "contract_address = json.loads(result)['contract_address']\n",
    "\n",
    "headers = {'Content-Type' : 'application/json; charset=utf-8'}\n",
    "res = requests.get(\"http://localhost:5000/mine\")\n",
    "print(res)"
   ]
  },
  {
   "cell_type": "code",
   "execution_count": null,
   "metadata": {},
   "outputs": [],
   "source": [
    "# 예시: 120 + 360\n",
    "headers = {'Content-Type' : 'application/json; charset=utf-8'}\n",
    "res = requests.get(\"http://localhost:5000/chain\", headers=headers)\n",
    "res_json = json.loads(res.content)\n",
    "\n",
    "for _block in res_json['chain']:\n",
    "    for _tx in _block['transactions']:\n",
    "        if _tx['smart_contract']['contract_address'] ==contract_address:\n",
    "            exec( _tx['smart_contract']['contract_code'].format(120,\"+\",360))\n",
    "            break\n",
    "print(calculate_result) "
   ]
  },
  {
   "cell_type": "code",
   "execution_count": null,
   "metadata": {},
   "outputs": [],
   "source": [
    "# 3 X 5\n",
    "headers = {'Content-Type' : 'application/json; charset=utf-8'}\n",
    "res = requests.get(\"http://localhost:5000/chain\", headers=headers)\n",
    "res_json = json.loads(res.content)\n",
    "\n",
    "for _block in res_json['chain']:\n",
    "    for _tx in _block['transactions']:\n",
    "        if _tx['smart_contract']['contract_address'] ==contract_address:\n",
    "            exec( _tx['smart_contract']['contract_code'].format(3,\"*\",5))\n",
    "            break\n",
    "print(calculate_result)        "
   ]
  },
  {
   "cell_type": "markdown",
   "metadata": {},
   "source": [
    "DApp 제작 -2 복권"
   ]
  },
  {
   "cell_type": "code",
   "execution_count": null,
   "metadata": {},
   "outputs": [],
   "source": [
    "headers = {'Content-Type' : 'application/json; charset=utf-8'}\n",
    "data = {\n",
    "        \"sender\": \"test_from\",\n",
    "        \"recipient\": \"smart_contract\",\n",
    "        \"amount\": 0,\n",
    "        \"smart_contract\": {\n",
    "                           \"contract_code\" : \"\"\"\n",
    "def Lottery():\n",
    "    lottery_number = random.sample(range(1,46),6)\n",
    "    lottery_number = sorted(lottery_number, key=lambda x: x)\n",
    "    lottery_number\n",
    "    print(lottery_number) \n",
    "    return lottery_number\n",
    "                           \"\"\"}\n",
    "}\n",
    "result = requests.post(\"http://localhost:5000/transactions/new\", headers=headers, data=json.dumps(data)).content\n",
    "contract_address = json.loads(result)['contract_address']\n",
    "\n",
    "headers = {'Content-Type' : 'application/json; charset=utf-8'}\n",
    "res = requests.get(\"http://localhost:5000/mine\")\n",
    "print(res)"
   ]
  },
  {
   "cell_type": "code",
   "execution_count": null,
   "metadata": {},
   "outputs": [],
   "source": [
    "# 실제로 6개 번호 선정하는 command\n",
    "headers = {'Content-Type' : 'application/json; charset=utf-8'}\n",
    "res = requests.get(\"http://localhost:5000/chain\", headers=headers)\n",
    "res_json = json.loads(res.content)\n",
    "\n",
    "for _block in res_json['chain']:\n",
    "    for _tx in _block['transactions']:\n",
    "        if _tx['smart_contract']['contract_address'] ==contract_address:\n",
    "            exec( _tx['smart_contract']['contract_code'])\n",
    "            break   \n",
    "print(Lottery())   "
   ]
  },
  {
   "cell_type": "markdown",
   "metadata": {},
   "source": [
    "DApp 제작 -3 Defi"
   ]
  },
  {
   "cell_type": "code",
   "execution_count": null,
   "metadata": {},
   "outputs": [],
   "source": [
    "token_name = 'pyTOKEN' \n",
    "token_total_volume = 100000\n",
    "token_owner = {'token_maker' : 10000}\n",
    "staking_status = {}\n",
    "\n",
    "def get_balance(user_id):\n",
    "    print('{} Balance is : '.format(user_id), token_owner[user_id])\n",
    "    return token_owner[user_id]\n",
    "\n",
    "def send_token(sender,recipent,amount):\n",
    "    if sender in token_owner.keys():\n",
    "        if get_balance(sender) > amount:\n",
    "            token_owner[sender]  = token_owner[sender] - amount\n",
    "            if recipent in token_owner.keys():\n",
    "                token_owner[recipent]  = token_owner[recipent] + amount\n",
    "            else :\n",
    "                token_owner[recipent]  =  amount\n",
    "            print(\"Transaction Completed\")\n",
    "            get_balance(sender) \n",
    "            get_balance(recipent) \n",
    "\n",
    "        else:\n",
    "            return \"Insufficient Balance\"\n",
    "    else:\n",
    "        return \"Unavailable Sender id\"\n",
    "    \n",
    "def token_staking(staker,amount):\n",
    "    if staker in token_owner.keys():\n",
    "        if get_balance(staker) > amount:\n",
    "            token_owner[staker]  = token_owner[staker] - amount\n",
    "            staking_status [len(staking_status)] =  {'staker':staker,'amount':amount}\n",
    "            print(\"Staing Completed\")\n",
    "            get_balance(staker) \n",
    "            \n",
    "        else:\n",
    "            return \"Insufficient Balance\"\n",
    "    else:\n",
    "        return \"Unavailable Staker id\"\n",
    "    \n",
    "def staking_yield(staking_status):\n",
    "    for t in staking_status:\n",
    "        print(staking_status[t])\n",
    "        staking_status[t]['amount'] = staking_status[t]['amount'] * 1.1\n",
    "    return staking_status"
   ]
  },
  {
   "cell_type": "code",
   "execution_count": null,
   "metadata": {},
   "outputs": [],
   "source": [
    "headers = {'Content-Type' : 'application/json; charset=utf-8'}\n",
    "data = {\n",
    "        \"sender\": \"test_from\",\n",
    "        \"recipient\": \"test_to\",\n",
    "        \"amount\": 3,\n",
    "        \"smart_contract\": {\n",
    "                           \"contract_code\" :\"token_name = 'pySTAKINGTOKEN' \\ntoken_total_volume = 100000\\ntoken_owner = {'token_maker' : 10000}\\nstaking_status = {}\",\n",
    "                           \"contract_function_getBalance\" :\"\"\"\n",
    "def get_balance(user_id):\n",
    "    print('{} Balance is : '.format(user_id), token_owner[user_id])\n",
    "    return token_owner[user_id]\n",
    "\"\"\",\n",
    "                           \"contract_function_sendToken\" :\"\"\"\n",
    "def send_token(sender,recipent,amount):\n",
    "    if sender in token_owner.keys():  \n",
    "        if get_balance(sender) > amount:\n",
    "            token_owner[sender]  = token_owner[sender] - amount\n",
    "            if recipent in token_owner.keys():\n",
    "                token_owner[recipent]  = token_owner[recipent] + amount\n",
    "            else :\n",
    "                token_owner[recipent]  =  amount\n",
    "            print(\"Transaction Completed\")\n",
    "            get_balance(sender) \n",
    "            get_balance(recipent) \n",
    "\n",
    "        else:\n",
    "            return \"Insufficient Balance\"\n",
    "    else:\n",
    "        return \"Unavailable Sender id\"\n",
    "\"\"\",\n",
    "                           \"contract_function_token_staking\" :\"\"\"\n",
    "def token_staking(staker,amount):\n",
    "    if staker in token_owner.keys():                       ## 예치자(staker)가 실제 존재하는 사용자인지 확인\n",
    "        if get_balance(staker) > amount:                   ## 예치자(staker)의 잔고가 예치 금액보다 많은지 확인\n",
    "            token_owner[staker]  = token_owner[staker] - amount   ## 예치자(staker)의 잔고에서 예치 금액 제외\n",
    "            staking_status [len(staking_status)] =  {'staker':staker,'amount':amount}  \n",
    "            ## 예치 정보(staking_status)에 예치자(staker)의 예치내역 저장\n",
    "            print(\"Staing Completed\")\n",
    "            get_balance(staker) \n",
    "            \n",
    "        else:\n",
    "            return \"Insufficient Balance\"\n",
    "    else:\n",
    "        return \"Unavailable Staker id\"\n",
    "\"\"\",\n",
    "                           \"contract_function_staking_yield\" :\"\"\"\n",
    "def staking_yield(staking_status):                                 ## 예치 이자 지급함수\n",
    "    for t in staking_status:\n",
    "        print(staking_status[t])\n",
    "            staking_status[t]['amount'] = staking_status[t]['amount'] * (1+0.1)    ## 예치 이자가 10% 지급된 금액으로 예치금 변경\n",
    "    return staking_status\n",
    "\"\"\"                       \n",
    "\n",
    "                                            }\n",
    "            }\n",
    "result = requests.post(\"http://localhost:5000/transactions/new\", headers=headers, data=json.dumps(data)).content\n",
    "contract_address = json.loads(result)['contract_address']\n",
    "\n",
    "\n",
    "headers = {'Content-Type' : 'application/json; charset=utf-8'}\n",
    "res = requests.get(\"http://localhost:5000/mine\")\n",
    "print(res)"
   ]
  },
  {
   "cell_type": "code",
   "execution_count": null,
   "metadata": {},
   "outputs": [],
   "source": [
    "# pySTAKINGTOKEN 생성여부 확인\n",
    "headers = {'Content-Type' : 'application/json; charset=utf-8'}\n",
    "res = requests.get(\"http://localhost:5000/chain\", headers=headers)\n",
    "res_json = json.loads(res.content)\n",
    "\n",
    "for _block in res_json['chain']:\n",
    "    for _tx in _block['transactions']:\n",
    "        if _tx['smart_contract']['contract_address'] == contract_address:\n",
    "            exec( _tx['smart_contract']['contract_code'])\n",
    "            break"
   ]
  },
  {
   "cell_type": "code",
   "execution_count": null,
   "metadata": {},
   "outputs": [],
   "source": [
    "# pySTAKINGTOKEN 예치 진행\n",
    "exec(_tx['smart_contract']['contract_function_token_staking'])\n",
    "token_staking('token_maker',100)"
   ]
  },
  {
   "cell_type": "code",
   "execution_count": null,
   "metadata": {},
   "outputs": [],
   "source": [
    "# pySTAKINGTOKEN 예치자에게 이자 지급\n",
    "exec(_tx['smart_contract']['contract_function_staking_yield'])\n",
    "staking_yield(staking_status)"
   ]
  }
 ],
 "metadata": {
  "language_info": {
   "name": "python"
  }
 },
 "nbformat": 4,
 "nbformat_minor": 2
}
