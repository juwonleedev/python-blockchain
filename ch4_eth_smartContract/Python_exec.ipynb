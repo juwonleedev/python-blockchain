{
 "cells": [
  {
   "cell_type": "markdown",
   "metadata": {},
   "source": [
    "스마트 컨트렉트 내의 텍스트를 코드로 인식하여 실행해야 하는데 이때 exec 함수가 동작한다\n",
    "블록 조회로 스마트 컨트렉트 내용 확인 가능\n",
    "해당 블록 내에서 우리가 저장한 스마트 컨트렉트의 주소로 스마트 컨트렉트 코드를 찾은 뒤 해당 코드를 exec 함수를 통해 실행"
   ]
  },
  {
   "cell_type": "code",
   "execution_count": null,
   "metadata": {},
   "outputs": [],
   "source": [
    "def func_add(a,b):\n",
    "    return a+b\n",
    "\n",
    "print(func_add(3,5))"
   ]
  }
 ],
 "metadata": {
  "language_info": {
   "name": "python"
  }
 },
 "nbformat": 4,
 "nbformat_minor": 2
}
